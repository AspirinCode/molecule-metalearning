{
 "cells": [
  {
   "cell_type": "code",
   "execution_count": 1,
   "metadata": {},
   "outputs": [],
   "source": [
    "import pandas as pd \n",
    "import numpy as np\n",
    "import pickle\n",
    "import os"
   ]
  },
  {
   "cell_type": "code",
   "execution_count": 2,
   "metadata": {},
   "outputs": [
    {
     "data": {
      "text/plain": [
       "['chembl_less_64_instances.csv',\n",
       " 'chembl_more_256_instances.csv',\n",
       " 'chembl_more_64_instances.csv',\n",
       " 'chembl_less_128_instances.csv',\n",
       " 'chembl_more_128_instances.csv',\n",
       " 'chembl_less_256_instances.csv',\n",
       " 'chembl_less_512_instances.csv',\n",
       " 'chembl_assay_names.pickle',\n",
       " 'chembl_assay_type_to_names.pickle',\n",
       " 'chembl_assay_type_legend.pickle',\n",
       " 'chembl_assays_skipped_404.pickle',\n",
       " 'chembl_128_tasks.pickle',\n",
       " 'chembl_assay_name_to_type.pickle',\n",
       " 'chembl_128_assay_name_to_type.pickle',\n",
       " 'chembl_128_assay_type_to_names.pickle',\n",
       " 'chembl_more_128_instances_902_tasks.csv',\n",
       " 'chembl_more_512_instances.csv',\n",
       " 'chembl_less_1024_instances.csv',\n",
       " 'chembl_more_1024_instances.csv',\n",
       " 'chembl_less_5000_instances.csv',\n",
       " 'chembl_more_5000_instances.csv',\n",
       " 'chembl_less_10000_instances.csv',\n",
       " 'chembl_more_10000_instances.csv',\n",
       " 'all_test_gsk_assays.pickle',\n",
       " 'assays_fewer_than_128_instances.pickle',\n",
       " 'num_datapoints_per_assay.pickle',\n",
       " 'test_gsk_assays_more_than_128.pickle',\n",
       " 'test_gsk_assays_less_than_128.pickle',\n",
       " '.ipynb_checkpoints',\n",
       " 'generate_meta_task_splits.ipynb']"
      ]
     },
     "execution_count": 2,
     "metadata": {},
     "output_type": "execute_result"
    }
   ],
   "source": [
    "os.listdir()"
   ]
  },
  {
   "cell_type": "code",
   "execution_count": 3,
   "metadata": {},
   "outputs": [],
   "source": [
    "with open('chembl_128_tasks.pickle', 'rb') as handle:\n",
    "    tasks = pickle.load(handle)\n",
    "with open('chembl_128_assay_name_to_type.pickle', 'rb') as handle:\n",
    "    assay_name_to_type = pickle.load(handle)\n",
    "with open('chembl_128_assay_type_to_names.pickle', 'rb') as handle:\n",
    "    assay_type_to_names = pickle.load(handle)"
   ]
  },
  {
   "cell_type": "code",
   "execution_count": 13,
   "metadata": {},
   "outputs": [
    {
     "name": "stdout",
     "output_type": "stream",
     "text": [
      "Assay type F has 732 assays\n",
      "Assay type T has 3 assays\n",
      "Assay type B has 158 assays\n",
      "Assay type A has 7 assays\n",
      "Assay type U has 2 assays\n"
     ]
    }
   ],
   "source": [
    "for assay_type in assay_type_to_names.keys():\n",
    "    print(\"Assay type {} has {} assays\".format(assay_type, len(assay_type_to_names[assay_type])))"
   ]
  },
  {
   "cell_type": "code",
   "execution_count": 17,
   "metadata": {},
   "outputs": [],
   "source": [
    "# HYPER PARAMS -- num of B and F tasks we want in test and val splits \n",
    "NUM_TEST_B_TASKS = 10\n",
    "NUM_TEST_F_TASKS = 10"
   ]
  },
  {
   "cell_type": "code",
   "execution_count": 15,
   "metadata": {},
   "outputs": [],
   "source": [
    "chembl_id_to_idx = {assay: idx for idx, assay in enumerate(tasks)}"
   ]
  },
  {
   "cell_type": "code",
   "execution_count": 12,
   "metadata": {},
   "outputs": [],
   "source": [
    "# Randomly shuffle B and F tasks\n",
    "randomized_B_tasks = np.copy(assay_type_to_names['B'])\n",
    "np.random.shuffle(randomized_B_tasks)\n",
    "\n",
    "randomized_B_task_indices = [chembl_id_to_idx[assay] for assay in randomized_B_tasks]\n",
    "\n",
    "randomized_F_tasks = np.copy(assay_type_to_names['F'])\n",
    "np.random.shuffle(randomized_F_tasks)\n",
    "randomized_F_task_indices = [chembl_id_to_idx[assay] for assay in randomized_F_tasks]"
   ]
  },
  {
   "cell_type": "code",
   "execution_count": null,
   "metadata": {},
   "outputs": [],
   "source": []
  },
  {
   "cell_type": "code",
   "execution_count": null,
   "metadata": {},
   "outputs": [],
   "source": []
  },
  {
   "cell_type": "code",
   "execution_count": null,
   "metadata": {},
   "outputs": [],
   "source": []
  }
 ],
 "metadata": {
  "kernelspec": {
   "display_name": "Python 3",
   "language": "python",
   "name": "python3"
  },
  "language_info": {
   "codemirror_mode": {
    "name": "ipython",
    "version": 3
   },
   "file_extension": ".py",
   "mimetype": "text/x-python",
   "name": "python",
   "nbconvert_exporter": "python",
   "pygments_lexer": "ipython3",
   "version": "3.6.10"
  }
 },
 "nbformat": 4,
 "nbformat_minor": 4
}
