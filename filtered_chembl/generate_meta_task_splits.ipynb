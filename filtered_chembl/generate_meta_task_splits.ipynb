{
 "cells": [
  {
   "cell_type": "code",
   "execution_count": 1,
   "metadata": {},
   "outputs": [],
   "source": [
    "import pandas as pd \n",
    "import numpy as np\n",
    "import pickle\n",
    "import os"
   ]
  },
  {
   "cell_type": "code",
   "execution_count": 2,
   "metadata": {},
   "outputs": [
    {
     "data": {
      "text/plain": [
       "['chembl_less_64_instances.csv',\n",
       " 'chembl_more_256_instances.csv',\n",
       " 'chembl_more_64_instances.csv',\n",
       " 'chembl_less_128_instances.csv',\n",
       " 'chembl_more_128_instances.csv',\n",
       " 'chembl_less_256_instances.csv',\n",
       " 'chembl_less_512_instances.csv',\n",
       " 'chembl_assay_names.pickle',\n",
       " 'chembl_assay_type_to_names.pickle',\n",
       " 'chembl_assay_type_legend.pickle',\n",
       " 'chembl_assays_skipped_404.pickle',\n",
       " 'chembl_128_tasks.pickle',\n",
       " 'chembl_assay_name_to_type.pickle',\n",
       " 'chembl_128_assay_name_to_type.pickle',\n",
       " 'chembl_128_assay_type_to_names.pickle',\n",
       " 'chembl_more_128_instances_902_tasks.csv',\n",
       " 'chembl_more_512_instances.csv',\n",
       " 'chembl_less_1024_instances.csv',\n",
       " 'chembl_more_1024_instances.csv',\n",
       " 'chembl_less_5000_instances.csv',\n",
       " 'chembl_more_5000_instances.csv',\n",
       " 'chembl_less_10000_instances.csv',\n",
       " 'chembl_more_10000_instances.csv',\n",
       " 'all_test_gsk_assays.pickle',\n",
       " 'assays_fewer_than_128_instances.pickle',\n",
       " 'num_datapoints_per_assay.pickle',\n",
       " 'test_gsk_assays_more_than_128.pickle',\n",
       " 'test_gsk_assays_less_than_128.pickle',\n",
       " 'chembl_128_val_task_split.pickle',\n",
       " '.ipynb_checkpoints',\n",
       " 'generate_meta_task_splits.ipynb',\n",
       " 'chembl_1024_tasks.pickle',\n",
       " 'chembl_less_64.tar.gz',\n",
       " 'chembl_128.tar.gz',\n",
       " 'pickle_chembl_less_1024.py',\n",
       " 'chembl_less_1024_all_smiles.pickle',\n",
       " 'chembl_less_1024_all_targets.pickle',\n",
       " 'chembl_less_1024_all_rows.pickle',\n",
       " 'unpickle_chembl_less_1024.py',\n",
       " 'pickle_128_902tasks.py',\n",
       " 'chembl_more_128_instances_902_tasks_all_smiles.pickle',\n",
       " 'chembl_more_128_instances_902_tasks_all_targets.pickle',\n",
       " 'chembl_more_128_instances_902_tasks_all_rows.pickle',\n",
       " 'unpickle_chembl_more_128_902.py',\n",
       " 'chembl_128_test_task_split.pickle',\n",
       " 'chembl_less_1024_more_128_645_tasks.csv',\n",
       " 'process_chembl_less_1024_more_128.ipynb',\n",
       " 'chembl_128_train_task_split.pickle',\n",
       " 'chembl_1024_assay_name_to_type.pickle',\n",
       " 'chembl_1024_assay_type_to_names.pickle']"
      ]
     },
     "execution_count": 2,
     "metadata": {},
     "output_type": "execute_result"
    }
   ],
   "source": [
    "os.listdir()"
   ]
  },
  {
   "cell_type": "code",
   "execution_count": 3,
   "metadata": {},
   "outputs": [],
   "source": [
    "with open('chembl_1024_tasks.pickle', 'rb') as handle:\n",
    "    tasks = pickle.load(handle)\n",
    "with open('chembl_1024_assay_name_to_type.pickle', 'rb') as handle:\n",
    "    assay_name_to_type = pickle.load(handle)\n",
    "with open('chembl_1024_assay_type_to_names.pickle', 'rb') as handle:\n",
    "    assay_type_to_names = pickle.load(handle)"
   ]
  },
  {
   "cell_type": "code",
   "execution_count": 6,
   "metadata": {},
   "outputs": [
    {
     "name": "stdout",
     "output_type": "stream",
     "text": [
      "There are 645 total tasks\n",
      "Assay type F has 491 assays\n",
      "Assay type B has 148 assays\n",
      "Assay type U has 2 assays\n",
      "Assay type T has 2 assays\n",
      "Assay type A has 2 assays\n"
     ]
    }
   ],
   "source": [
    "print(\"There are {} total tasks\".format(len(tasks)))\n",
    "for assay_type in assay_type_to_names.keys():\n",
    "    print(\"Assay type {} has {} assays\".format(assay_type, len(assay_type_to_names[assay_type])))"
   ]
  },
  {
   "cell_type": "code",
   "execution_count": 7,
   "metadata": {},
   "outputs": [],
   "source": [
    "# HYPER PARAMS -- num of B and F tasks we want in test and val splits \n",
    "NUM_VAL_BF_TASKS = 10\n",
    "NUM_TEST_BF_TASKS = 10\n",
    "\n",
    "T_val_idx = NUM_VAL_BF_TASKS \n",
    "T_test_idx = NUM_VAL_BF_TASKS + NUM_TEST_BF_TASKS"
   ]
  },
  {
   "cell_type": "code",
   "execution_count": 8,
   "metadata": {},
   "outputs": [],
   "source": [
    "chembl_id_to_idx = {assay: idx for idx, assay in enumerate(tasks)}"
   ]
  },
  {
   "cell_type": "code",
   "execution_count": 9,
   "metadata": {},
   "outputs": [],
   "source": [
    "# Randomly shuffle B and F tasks\n",
    "randomized_B_tasks = np.copy(assay_type_to_names['B'])\n",
    "np.random.shuffle(randomized_B_tasks)\n",
    "randomized_B_task_indices = [chembl_id_to_idx[assay] for assay in randomized_B_tasks]\n",
    "\n",
    "randomized_F_tasks = np.copy(assay_type_to_names['F'])\n",
    "np.random.shuffle(randomized_F_tasks)\n",
    "randomized_F_task_indices = [chembl_id_to_idx[assay] for assay in randomized_F_tasks]"
   ]
  },
  {
   "cell_type": "code",
   "execution_count": 10,
   "metadata": {},
   "outputs": [],
   "source": [
    "# Partition BF tasks among meta train, val, test\n",
    "\n",
    "# Generate BF val split \n",
    "T_val_B_task_indices = randomized_B_task_indices[:T_val_idx]\n",
    "T_val_F_task_indices = randomized_F_task_indices[:T_val_idx]\n",
    "\n",
    "# Generate BF test split \n",
    "T_test_B_task_indices = randomized_B_task_indices[T_val_idx:T_test_idx]\n",
    "T_test_F_task_indices = randomized_F_task_indices[T_val_idx:T_test_idx]\n",
    "\n",
    "# Slot remaining BF tasks into train split\n",
    "T_train_B_task_indices = randomized_B_task_indices[T_test_idx:]\n",
    "T_train_F_task_indices = randomized_F_task_indices[T_test_idx:]"
   ]
  },
  {
   "cell_type": "code",
   "execution_count": 11,
   "metadata": {},
   "outputs": [],
   "source": [
    "# Slot remaining A, T and U tasks into meta test split\n",
    "T_test_A_task_indices = [chembl_id_to_idx[assay] for assay in assay_type_to_names['A']]\n",
    "T_test_T_task_indices = [chembl_id_to_idx[assay] for assay in assay_type_to_names['T']]\n",
    "T_test_U_task_indices = [chembl_id_to_idx[assay] for assay in assay_type_to_names['U']]"
   ]
  },
  {
   "cell_type": "code",
   "execution_count": 12,
   "metadata": {},
   "outputs": [],
   "source": [
    "total_partitioned_tasks = len(T_val_B_task_indices) + len(T_val_F_task_indices) + len(T_test_B_task_indices) + len(T_test_F_task_indices) + len(T_train_B_task_indices) + len(T_train_F_task_indices) + len(T_test_A_task_indices) + len(T_test_T_task_indices) + len(T_test_U_task_indices)\n",
    "assert total_partitioned_tasks == len(tasks)"
   ]
  },
  {
   "cell_type": "code",
   "execution_count": 13,
   "metadata": {},
   "outputs": [],
   "source": [
    "# Make final bit vectors representing tasks for each of the train, validation and test splits \n",
    "T_tr = [0] * len(tasks)\n",
    "T_val = [0] * len(tasks)\n",
    "T_test = [0] * len(tasks)\n",
    "\n",
    "for idx_list in (T_train_B_task_indices, T_train_F_task_indices):\n",
    "    for idx in idx_list:\n",
    "        T_tr[idx] = 1"
   ]
  },
  {
   "cell_type": "code",
   "execution_count": 14,
   "metadata": {},
   "outputs": [],
   "source": [
    "for idx_list in (T_val_B_task_indices, T_val_F_task_indices):\n",
    "    for idx in idx_list:\n",
    "        T_val[idx] = 1"
   ]
  },
  {
   "cell_type": "code",
   "execution_count": 15,
   "metadata": {},
   "outputs": [],
   "source": [
    "for idx_list in (T_test_B_task_indices, T_test_F_task_indices, T_test_A_task_indices, T_test_T_task_indices, T_test_U_task_indices):\n",
    "    for idx in idx_list:\n",
    "        T_test[idx] = 1"
   ]
  },
  {
   "cell_type": "code",
   "execution_count": 16,
   "metadata": {},
   "outputs": [],
   "source": [
    "# sanity checks\n",
    "assert sum(T_tr) + sum(T_val) + sum(T_test) == len(tasks)\n",
    "T_train_indices = set(np.nonzero(T_tr)[0])\n",
    "T_val_indices = set(np.nonzero(T_val)[0])\n",
    "T_test_indices = set(np.nonzero(T_test)[0])\n",
    "assert T_train_indices.isdisjoint(T_val_indices)\n",
    "assert T_train_indices.isdisjoint(T_test_indices)\n",
    "assert T_val_indices.isdisjoint(T_test_indices)"
   ]
  },
  {
   "cell_type": "code",
   "execution_count": 17,
   "metadata": {},
   "outputs": [],
   "source": [
    "# save these task splits\n",
    "with open('chembl_1024_meta_train_task_split.pickle', 'wb') as handle:\n",
    "    pickle.dump(T_tr, handle)\n",
    "with open('chembl_1024_meta_val_task_split.pickle', 'wb') as handle:\n",
    "    pickle.dump(T_val, handle)\n",
    "with open('chembl_1024_meta_test_task_split.pickle', 'wb') as handle:\n",
    "    pickle.dump(T_test, handle)"
   ]
  }
 ],
 "metadata": {
  "kernelspec": {
   "display_name": "Python 3",
   "language": "python",
   "name": "python3"
  },
  "language_info": {
   "codemirror_mode": {
    "name": "ipython",
    "version": 3
   },
   "file_extension": ".py",
   "mimetype": "text/x-python",
   "name": "python",
   "nbconvert_exporter": "python",
   "pygments_lexer": "ipython3",
   "version": "3.6.10"
  }
 },
 "nbformat": 4,
 "nbformat_minor": 4
}
