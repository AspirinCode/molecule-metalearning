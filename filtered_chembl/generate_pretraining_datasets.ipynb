{
 "cells": [
  {
   "cell_type": "code",
   "execution_count": 1,
   "metadata": {},
   "outputs": [],
   "source": [
    "import pandas as pd \n",
    "import numpy as np\n",
    "import pickle\n",
    "import os"
   ]
  },
  {
   "cell_type": "code",
   "execution_count": 2,
   "metadata": {},
   "outputs": [],
   "source": [
    "with open('chembl_1024_tasks.pickle', 'rb') as handle:\n",
    "    chembl_1024_tasks = pickle.load(handle)"
   ]
  },
  {
   "cell_type": "code",
   "execution_count": 4,
   "metadata": {},
   "outputs": [],
   "source": [
    "# save these task splits\n",
    "with open('chembl_1024_meta_train_task_split.pickle', 'rb') as handle:\n",
    "    T_tr = pickle.load(handle)\n",
    "with open('chembl_1024_meta_val_task_split.pickle', 'rb') as handle:\n",
    "    T_val = pickle.load(handle)\n",
    "with open('chembl_1024_meta_test_task_split.pickle', 'rb') as handle:\n",
    "    T_test = pickle.load(handle)"
   ]
  },
  {
   "cell_type": "code",
   "execution_count": 11,
   "metadata": {},
   "outputs": [],
   "source": [
    "chembl_1024_df = pd.read_csv('chembl_less_1024_more_128_645_tasks.csv')"
   ]
  },
  {
   "cell_type": "code",
   "execution_count": 14,
   "metadata": {},
   "outputs": [],
   "source": [
    "# Process dataset with only training and validation tasks \n",
    "train_val_task_indices = [0] * len(chembl_1024_tasks)\n",
    "for idx in np.nonzero(T_tr)[0]: \n",
    "    train_val_task_indices[idx] = 1\n",
    "for idx in np.nonzero(T_val)[0]: \n",
    "    train_val_task_indices[idx] = 1\n",
    "\n",
    "# Process dataset with only test tasks \n",
    "test_task_indices = [0] * len(chembl_1024_tasks)\n",
    "for idx in np.nonzero(T_test)[0]: \n",
    "    test_task_indices[idx] = 1"
   ]
  },
  {
   "cell_type": "code",
   "execution_count": 17,
   "metadata": {},
   "outputs": [],
   "source": [
    "train_val_task_names = [chembl_1024_tasks[idx] for idx in np.nonzero(train_val_task_indices)[0]]\n",
    "test_task_names = [chembl_1024_tasks[idx] for idx in np.nonzero(test_task_indices)[0]]"
   ]
  },
  {
   "cell_type": "code",
   "execution_count": 20,
   "metadata": {},
   "outputs": [
    {
     "data": {
      "text/plain": [
       "26"
      ]
     },
     "execution_count": 20,
     "metadata": {},
     "output_type": "execute_result"
    }
   ],
   "source": [
    "len(test_task_names)"
   ]
  },
  {
   "cell_type": "code",
   "execution_count": 34,
   "metadata": {},
   "outputs": [],
   "source": [
    "# drop irrelevant tasks \n",
    "chembl_train_val = chembl_1024_df.drop(test_task_names, axis = 1)\n",
    "chembl_test = chembl_1024_df.drop(train_val_task_names, axis = 1)"
   ]
  },
  {
   "cell_type": "code",
   "execution_count": 35,
   "metadata": {},
   "outputs": [],
   "source": [
    "# drop rows that are now empty \n",
    "train_val_tasks_rem = chembl_train_val.columns.tolist()[1:]\n",
    "test_tasks_rem = chembl_test.columns.tolist()[1:]\n",
    "chembl_train_val = chembl_train_val.dropna(subset=train_val_tasks_rem, how='all')\n",
    "chembl_test = chembl_test.dropna(subset=test_tasks_rem, how='all')"
   ]
  },
  {
   "cell_type": "code",
   "execution_count": 36,
   "metadata": {},
   "outputs": [],
   "source": [
    "# save\n",
    "chembl_train_val.to_csv('chembl_1024_pretraining_train_val_tasks.csv', index=False)\n",
    "chembl_test.to_csv('chembl_1024_pretraining_test_tasks.csv', index=False)"
   ]
  }
 ],
 "metadata": {
  "kernelspec": {
   "display_name": "Python 3.6.10 64-bit ('chemprop': conda)",
   "language": "python",
   "name": "python361064bitchempropconda0a62a50453c840e9a8020804040b19ad"
  },
  "language_info": {
   "codemirror_mode": {
    "name": "ipython",
    "version": 3
   },
   "file_extension": ".py",
   "mimetype": "text/x-python",
   "name": "python",
   "nbconvert_exporter": "python",
   "pygments_lexer": "ipython3",
   "version": "3.6.10"
  }
 },
 "nbformat": 4,
 "nbformat_minor": 4
}
