{
 "cells": [
  {
   "cell_type": "code",
   "execution_count": 38,
   "metadata": {},
   "outputs": [],
   "source": [
    "import os, glob\n",
    "import pickle\n",
    "import numpy\n",
    "from collections import defaultdict"
   ]
  },
  {
   "cell_type": "code",
   "execution_count": 41,
   "metadata": {},
   "outputs": [
    {
     "name": "stdout",
     "output_type": "stream",
     "text": [
      "These are files ['ffn_0_dropout_200_hidden_size.pickle', 'ffn_0_dropout_300_hidden_size.pickle', 'ffn_0_dropout_400_hidden_size.pickle', 'ffn_0_dropout_500_hidden_size.pickle', 'ffn_0.2_dropout_200_hidden_size.pickle', 'ffn_0.2_dropout_400_hidden_size.pickle', 'ffn_0.2_dropout_500_hidden_size.pickle', 'ffn_0.2_dropout_300_hidden_size.pickle', 'ffn_0.4_dropout_500_hidden_size.pickle', 'ffn_0.4_dropout_400_hidden_size.pickle', 'ffn_0.4_dropout_300_hidden_size.pickle', 'ffn_0.6_dropout_200_hidden_size.pickle', 'ffn_0.4_dropout_200_hidden_size.pickle', 'ffn_0.6_dropout_300_hidden_size.pickle', 'ffn_0.6_dropout_400_hidden_size.pickle', 'ffn_0.8_dropout_200_hidden_size.pickle', 'ffn_0.6_dropout_500_hidden_size.pickle', 'ffn_0.8_dropout_300_hidden_size.pickle', 'ffn_0.8_dropout_500_hidden_size.pickle', 'ffn_0.8_dropout_400_hidden_size.pickle']\n"
     ]
    }
   ],
   "source": [
    "ffn_files = glob.glob('ffn*.pickle')\n",
    "print('These are files {}'.format(files))"
   ]
  },
  {
   "cell_type": "code",
   "execution_count": 42,
   "metadata": {},
   "outputs": [],
   "source": [
    "morgan_results = defaultdict(dict)\n",
    "for file in ffn_files:\n",
    "    with open(file, 'rb') as handle:\n",
    "        results_dict = pickle.load(handle)\n",
    "        experiment_name = file[:file.find('.pickle')]\n",
    "        for key in results_dict.keys():\n",
    "            morgan_results[experiment_name][key] = results_dict[key]"
   ]
  },
  {
   "cell_type": "code",
   "execution_count": 43,
   "metadata": {},
   "outputs": [],
   "source": [
    "best_dropout = None\n",
    "best_hidden_size = None \n",
    "best_score = float('-inf')\n",
    "for key in morgan_results.keys():\n",
    "    dropout = key.split('_')[1]\n",
    "    hidden_size = key.split('_')[3]\n",
    "    score = morgan_results[key]['avg_score']\n",
    "    #print('best epochs:', morgan_results[key]['best_epochs'])\n",
    "    if score > best_score:\n",
    "        best_score = score \n",
    "        best_dropout = dropout \n",
    "        best_hidden_size = hidden_size "
   ]
  },
  {
   "cell_type": "code",
   "execution_count": 44,
   "metadata": {},
   "outputs": [
    {
     "name": "stdout",
     "output_type": "stream",
     "text": [
      "0.7089027255653261 0.2 400\n"
     ]
    }
   ],
   "source": [
    "print(best_score, best_dropout, best_hidden_size)"
   ]
  },
  {
   "cell_type": "code",
   "execution_count": 46,
   "metadata": {},
   "outputs": [],
   "source": [
    "chemprop_files = glob.glob('chemprop*.pickle')"
   ]
  },
  {
   "cell_type": "code",
   "execution_count": 47,
   "metadata": {},
   "outputs": [],
   "source": [
    "chemprop_results = defaultdict(dict)\n",
    "for file in chemprop_files:\n",
    "    with open(file, 'rb') as handle:\n",
    "        results_dict = pickle.load(handle)\n",
    "        experiment_name = file[:file.find('.pickle')]\n",
    "        for key in results_dict.keys():\n",
    "            chemprop_results[experiment_name][key] = results_dict[key]"
   ]
  },
  {
   "cell_type": "code",
   "execution_count": 52,
   "metadata": {},
   "outputs": [],
   "source": [
    "best_dropout = None\n",
    "best_mp_steps = None \n",
    "best_score = float('-inf')\n",
    "for key in chemprop_results.keys():\n",
    "    dropout = key.split('_')[1]\n",
    "    mp_steps = key.split('_')[3]\n",
    "    score = chemprop_results[key]['avg_score']\n",
    "    if score > best_score:\n",
    "        best_score = score \n",
    "        best_dropout = dropout \n",
    "        best_mp_steps = mp_steps "
   ]
  },
  {
   "cell_type": "code",
   "execution_count": 63,
   "metadata": {},
   "outputs": [
    {
     "name": "stdout",
     "output_type": "stream",
     "text": [
      "0.6954117948902899 0 2\n"
     ]
    }
   ],
   "source": [
    "print(best_score, best_dropout, best_mp_steps)"
   ]
  },
  {
   "cell_type": "code",
   "execution_count": 73,
   "metadata": {},
   "outputs": [
    {
     "data": {
      "text/plain": [
       "0.6912725128513397"
      ]
     },
     "execution_count": 73,
     "metadata": {},
     "output_type": "execute_result"
    }
   ],
   "source": [
    "chemprop_results['chemprop_0.2_dropout_2_mp_steps']['avg_score']"
   ]
  },
  {
   "cell_type": "code",
   "execution_count": null,
   "metadata": {},
   "outputs": [],
   "source": []
  }
 ],
 "metadata": {
  "kernelspec": {
   "display_name": "Python 3",
   "language": "python",
   "name": "python3"
  },
  "language_info": {
   "codemirror_mode": {
    "name": "ipython",
    "version": 3
   },
   "file_extension": ".py",
   "mimetype": "text/x-python",
   "name": "python",
   "nbconvert_exporter": "python",
   "pygments_lexer": "ipython3",
   "version": "3.6.10"
  }
 },
 "nbformat": 4,
 "nbformat_minor": 4
}
